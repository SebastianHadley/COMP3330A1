{
 "cells": [
  {
   "cell_type": "code",
   "execution_count": 30,
   "metadata": {},
   "outputs": [],
   "source": [
    "import csv \n",
    "\n",
    "with open('DataSets/Question2BupaOriginal.data','r') as data_file:\n",
    "    lines = data_file.readlines()\n",
    "\n",
    "with open('DataSets/CsvBupa.csv','w', newline='') as csv_file:\n",
    "    csv_writer = csv.writer(csv_file)\n",
    "    for line in lines:\n",
    "        # remove any whitespace from the beginning and end of the line\n",
    "        line = line.strip()\n",
    "        \n",
    "        line = line.strip('\"')\n",
    "        # split the line into fields using whitespace as the delimiter\n",
    "        fields = line.split()\n",
    "\n",
    "        # write the fields to the csv file\n",
    "        csv_writer.writerow(fields)"
   ]
  },
  {
   "cell_type": "code",
   "execution_count": 31,
   "metadata": {},
   "outputs": [],
   "source": [
    "import csv\n",
    "\n",
    "with open('DataSets/CsvBupa.csv','r') as file:\n",
    "    reader = csv.reader(file)\n",
    "    data = list(reader)\n",
    "\n",
    "columns = [list(x[0].split(',')) for x in data]\n",
    "\n",
    "rows = list(map(list, zip(*columns)))\n",
    "\n",
    "rows = zip(*rows)\n",
    "with open('DataSets/CsvBupaFormatted.csv','w', newline='') as formatted_csv:\n",
    "    writer = csv.writer(formatted_csv)\n",
    "    writer.writerows(rows)"
   ]
  }
 ],
 "metadata": {
  "kernelspec": {
   "display_name": "base",
   "language": "python",
   "name": "python3"
  },
  "language_info": {
   "codemirror_mode": {
    "name": "ipython",
    "version": 3
   },
   "file_extension": ".py",
   "mimetype": "text/x-python",
   "name": "python",
   "nbconvert_exporter": "python",
   "pygments_lexer": "ipython3",
   "version": "3.9.13"
  },
  "orig_nbformat": 4
 },
 "nbformat": 4,
 "nbformat_minor": 2
}
