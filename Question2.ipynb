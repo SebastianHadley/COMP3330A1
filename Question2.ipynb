{
 "cells": [
  {
   "cell_type": "code",
   "execution_count": 8,
   "metadata": {},
   "outputs": [],
   "source": [
    "import csv \n",
    "\n",
    "with open('DataSets/Question2BupaOriginal.data','r') as data_file:\n",
    "    lines = data_file.readlines()\n",
    "\n",
    "with open('DataSets/CsvBupa.csv','w', newline='') as csv_file:\n",
    "    csv_writer = csv.writer(csv_file)\n",
    "    for line in lines:\n",
    "        # remove any whitespace from the beginning and end of the line\n",
    "        line = line.strip()\n",
    "        \n",
    "        line = line.strip('\"')\n",
    "        # split the line into fields using whitespace as the delimiter\n",
    "        fields = line.split()\n",
    "\n",
    "        # write the fields to the csv file\n",
    "        csv_writer.writerow(fields)"
   ]
  },
  {
   "cell_type": "code",
   "execution_count": 9,
   "metadata": {},
   "outputs": [],
   "source": [
    "\n",
    "\n",
    "with open('DataSets/CsvBupa.csv','r') as file:\n",
    "    reader = csv.reader(file)\n",
    "    data = list(reader)\n",
    "\n",
    "columns = [list(x[0].split(',')) for x in data]\n",
    "\n",
    "rows = list(map(list, zip(*columns)))\n",
    "\n",
    "rows = zip(*rows)\n",
    "with open('DataSets/CsvBupaFormatted.csv','w', newline='') as formatted_csv:\n",
    "    writer = csv.writer(formatted_csv)\n",
    "    writer.writerows(rows)"
   ]
  },
  {
   "attachments": {},
   "cell_type": "markdown",
   "metadata": {},
   "source": [
    "Now that data is sorted into an easier to manage format, we will determine the cutoff point to dichotomise the class variable, we will also remove the 7th column as it is not needed, and normalize the data after it has been dichotomised."
   ]
  },
  {
   "cell_type": "code",
   "execution_count": 40,
   "metadata": {},
   "outputs": [
    {
     "name": "stdout",
     "output_type": "stream",
     "text": [
      "3.455072463768116\n",
      "            1         2         3         4  5\n",
      "0    1.207923  0.749035  0.234482 -0.185829  0\n",
      "1   -0.320373  1.467573  0.732000 -0.389922  0\n",
      "2   -0.866193  0.133145 -0.860056  0.400941  0\n",
      "3    0.443775  0.184469 -0.064028 -0.058270  0\n",
      "4    0.007119 -0.944662  0.333986 -0.721575  0\n",
      "..        ...       ...       ...       ... ..\n",
      "340  0.280029 -0.226124 -0.064028  0.069288  1\n",
      "341 -0.047463  1.159628  1.826538  4.202186  1\n",
      "342  0.389193  1.262276  1.030510  1.293850  1\n",
      "343 -0.102045 -0.174800  0.134979 -0.619528  1\n",
      "344  1.589997  1.364925  2.025545  0.681569  1\n",
      "\n",
      "[345 rows x 5 columns]\n"
     ]
    }
   ],
   "source": [
    "\n",
    "import pandas as pd\n",
    "from sklearn import preprocessing\n",
    "data_frame = pd.read_csv('DataSets/CsvBupaFormatted.csv',header = None)\n",
    "data_frame = data_frame.drop(6, axis=1)\n",
    "cutoff_point = data_frame[5].mean()\n",
    "print(cutoff_point)\n",
    "data_frame[5] = data_frame[5].apply(lambda x: 0 if x < cutoff_point else 1)\n",
    "explanatory = data_frame[[1,2,3,4]]\n",
    "scaler = preprocessing.StandardScaler()\n",
    "explanatory = scaler.fit_transform(explanatory)\n",
    "normalized_df = pd.DataFrame(explanatory,columns=[1,2,3,4])\n",
    "normalized_df[5] = data_frame[5]\n",
    "print(normalized_df)\n"
   ]
  },
  {
   "attachments": {},
   "cell_type": "markdown",
   "metadata": {},
   "source": [
    "Since the mean is 3.455 we will set the cutoff point as => 3.5.\n",
    "So if a value is less then that it will be set to 0 and if it is greater it will be set to one."
   ]
  },
  {
   "cell_type": "code",
   "execution_count": 38,
   "metadata": {},
   "outputs": [
    {
     "name": "stdout",
     "output_type": "stream",
     "text": [
      "            1         2         3         4  5\n",
      "0    1.207923  0.749035  0.234482 -0.185829  0\n",
      "1   -0.320373  1.467573  0.732000 -0.389922  0\n",
      "2   -0.866193  0.133145 -0.860056  0.400941  0\n",
      "3    0.443775  0.184469 -0.064028 -0.058270  0\n",
      "4    0.007119 -0.944662  0.333986 -0.721575  0\n",
      "..        ...       ...       ...       ... ..\n",
      "340  0.280029 -0.226124 -0.064028  0.069288  1\n",
      "341 -0.047463  1.159628  1.826538  4.202186  1\n",
      "342  0.389193  1.262276  1.030510  1.293850  1\n",
      "343 -0.102045 -0.174800  0.134979 -0.619528  1\n",
      "344  1.589997  1.364925  2.025545  0.681569  1\n",
      "\n",
      "[345 rows x 5 columns]\n"
     ]
    }
   ],
   "source": []
  },
  {
   "cell_type": "code",
   "execution_count": null,
   "metadata": {},
   "outputs": [],
   "source": []
  }
 ],
 "metadata": {
  "kernelspec": {
   "display_name": "base",
   "language": "python",
   "name": "python3"
  },
  "language_info": {
   "codemirror_mode": {
    "name": "ipython",
    "version": 3
   },
   "file_extension": ".py",
   "mimetype": "text/x-python",
   "name": "python",
   "nbconvert_exporter": "python",
   "pygments_lexer": "ipython3",
   "version": "3.9.13"
  },
  "orig_nbformat": 4
 },
 "nbformat": 4,
 "nbformat_minor": 2
}
